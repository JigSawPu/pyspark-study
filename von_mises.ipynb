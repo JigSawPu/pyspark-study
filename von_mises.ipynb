{
 "cells": [
  {
   "cell_type": "code",
   "execution_count": null,
   "metadata": {},
   "outputs": [],
   "source": [
    "from scipy.stats import vonmises\n",
    "import matplotlib.pyplot as plt\n",
    "import numpy as np\n",
    "\n",
    "kappa = 3.0\n",
    "mu = 0.0\n",
    "\n",
    "vm = vonmises(kappa, loc=mu)\n",
    "\n",
    "x = np.linspace(-np.pi, np.pi, 100)\n",
    "y = vm.pdf(x)\n",
    "\n",
    "plt.plot(x, y)\n",
    "plt.show()\n"
   ]
  },
  {
   "cell_type": "code",
   "execution_count": null,
   "metadata": {},
   "outputs": [],
   "source": [
    "def pdf_von_Mises(theta,mu,kappa):\n",
    "    \"\"\" pdf_von_Mises (theta,mu,kappa)\n",
    "    =============================\n",
    "    Calculates the von Mises probability density distribution at the angle theta with mean direction mu and concentration kappa.\n",
    "    \"\"\"\n",
    "    p = np.exp(kappa*np.cos(theta-mu))/(2*np.pi*np.i0(kappa))\n",
    "    return p\n"
   ]
  },
  {
   "cell_type": "code",
   "execution_count": null,
   "metadata": {},
   "outputs": [],
   "source": [
    "import numpy as np\n",
    "\n",
    "def rand_von_Mises(N,mu,kappa):\n",
    "    \"\"\" rand_von_Mises (N,mu,kappa)\n",
    "    ==========================\n",
    "    Generates theta an Nx1 array of samples of a von Mises distribution with mean direction mu and concentration kappa.\n",
    "    \"\"\"\n",
    "    r = 1 + np.sqrt(1 + 4 * kappa ** 2)\n",
    "    rho = (r - np.sqrt(2 * r)) / (2 * kappa)\n",
    "    x = (1 - rho ** 2) / (1 + rho ** 2)\n",
    "    c = kappa * x + (N - 1 / 3 + 0.02 / kappa) * np.sqrt(2 * x)\n",
    "    v = np.zeros(N)\n",
    "    for i in range(N):\n",
    "        done = False\n",
    "        while not done:\n",
    "            z = np.random.normal()\n",
    "            w = (1 - x) / (1 - rho * z)\n",
    "            y = kappa * w - (N - 1 / 3 + 0.02 / kappa) * np.sqrt(w)\n",
    "            u = np.random.uniform()\n",
    "            if kappa * y ** 2 / 2 + c * (1 - x * w) >= np.log(u):\n",
    "                v[i] = np.mod(mu + np.arccos(w), 2 * np.pi)\n",
    "                done = True\n",
    "    return v\n"
   ]
  }
 ],
 "metadata": {
  "kernelspec": {
   "display_name": "ml",
   "language": "python",
   "name": "python3"
  },
  "language_info": {
   "codemirror_mode": {
    "name": "ipython",
    "version": 3
   },
   "file_extension": ".py",
   "mimetype": "text/x-python",
   "name": "python",
   "nbconvert_exporter": "python",
   "pygments_lexer": "ipython3",
   "version": "3.11.3"
  },
  "orig_nbformat": 4
 },
 "nbformat": 4,
 "nbformat_minor": 2
}
